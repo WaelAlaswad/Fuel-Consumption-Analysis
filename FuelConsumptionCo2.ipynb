{
 "cells": [
  {
   "cell_type": "markdown",
   "id": "8c8c6baf",
   "metadata": {},
   "source": [
    "## Lets's Read The File To Explore The Data"
   ]
  },
  {
   "cell_type": "code",
   "execution_count": 79,
   "id": "5c6f61d2",
   "metadata": {},
   "outputs": [],
   "source": [
    "import numpy as np\n",
    "import pandas as pd\n",
    "import matplotlib.pyplot as plt\n",
    "import seaborn as sns"
   ]
  },
  {
   "cell_type": "code",
   "execution_count": 80,
   "id": "892054a5",
   "metadata": {},
   "outputs": [],
   "source": [
    "FuelCons = pd.read_csv(\"FuelConsumptionCo2.csv\")"
   ]
  },
  {
   "cell_type": "code",
   "execution_count": 81,
   "id": "db955e6a",
   "metadata": {
    "scrolled": false
   },
   "outputs": [
    {
     "data": {
      "text/html": [
       "<div>\n",
       "<style scoped>\n",
       "    .dataframe tbody tr th:only-of-type {\n",
       "        vertical-align: middle;\n",
       "    }\n",
       "\n",
       "    .dataframe tbody tr th {\n",
       "        vertical-align: top;\n",
       "    }\n",
       "\n",
       "    .dataframe thead th {\n",
       "        text-align: right;\n",
       "    }\n",
       "</style>\n",
       "<table border=\"1\" class=\"dataframe\">\n",
       "  <thead>\n",
       "    <tr style=\"text-align: right;\">\n",
       "      <th></th>\n",
       "      <th>MODELYEAR</th>\n",
       "      <th>Brands</th>\n",
       "      <th>VEHICLECLASS</th>\n",
       "      <th>ENGINESIZE</th>\n",
       "      <th>CYLINDERS</th>\n",
       "      <th>TRANSMISSION</th>\n",
       "      <th>FUELTYPE</th>\n",
       "      <th>FUELCONSUMPTION_CITY</th>\n",
       "      <th>FUELCONSUMPTION_HWY</th>\n",
       "      <th>FUELCONSUMPTION_COMB</th>\n",
       "      <th>FUELCONSUMPTION_COMB_MPG</th>\n",
       "      <th>CO2EMISSIONS</th>\n",
       "    </tr>\n",
       "  </thead>\n",
       "  <tbody>\n",
       "    <tr>\n",
       "      <th>0</th>\n",
       "      <td>2014</td>\n",
       "      <td>ACURA</td>\n",
       "      <td>COMPACT</td>\n",
       "      <td>2.0</td>\n",
       "      <td>4</td>\n",
       "      <td>AS5</td>\n",
       "      <td>Z</td>\n",
       "      <td>9.9</td>\n",
       "      <td>6.7</td>\n",
       "      <td>8.5</td>\n",
       "      <td>33</td>\n",
       "      <td>196</td>\n",
       "    </tr>\n",
       "    <tr>\n",
       "      <th>1</th>\n",
       "      <td>2014</td>\n",
       "      <td>ACURA</td>\n",
       "      <td>COMPACT</td>\n",
       "      <td>2.4</td>\n",
       "      <td>4</td>\n",
       "      <td>M6</td>\n",
       "      <td>Z</td>\n",
       "      <td>11.2</td>\n",
       "      <td>7.7</td>\n",
       "      <td>9.6</td>\n",
       "      <td>29</td>\n",
       "      <td>221</td>\n",
       "    </tr>\n",
       "    <tr>\n",
       "      <th>2</th>\n",
       "      <td>2014</td>\n",
       "      <td>ACURA</td>\n",
       "      <td>COMPACT</td>\n",
       "      <td>1.5</td>\n",
       "      <td>4</td>\n",
       "      <td>AV7</td>\n",
       "      <td>Z</td>\n",
       "      <td>6.0</td>\n",
       "      <td>5.8</td>\n",
       "      <td>5.9</td>\n",
       "      <td>48</td>\n",
       "      <td>136</td>\n",
       "    </tr>\n",
       "    <tr>\n",
       "      <th>3</th>\n",
       "      <td>2014</td>\n",
       "      <td>ACURA</td>\n",
       "      <td>SUV_SMALL</td>\n",
       "      <td>3.5</td>\n",
       "      <td>6</td>\n",
       "      <td>AS6</td>\n",
       "      <td>Z</td>\n",
       "      <td>12.7</td>\n",
       "      <td>9.1</td>\n",
       "      <td>11.1</td>\n",
       "      <td>25</td>\n",
       "      <td>255</td>\n",
       "    </tr>\n",
       "    <tr>\n",
       "      <th>4</th>\n",
       "      <td>2014</td>\n",
       "      <td>ACURA</td>\n",
       "      <td>SUV_SMALL</td>\n",
       "      <td>3.5</td>\n",
       "      <td>6</td>\n",
       "      <td>AS6</td>\n",
       "      <td>Z</td>\n",
       "      <td>12.1</td>\n",
       "      <td>8.7</td>\n",
       "      <td>10.6</td>\n",
       "      <td>27</td>\n",
       "      <td>244</td>\n",
       "    </tr>\n",
       "  </tbody>\n",
       "</table>\n",
       "</div>"
      ],
      "text/plain": [
       "   MODELYEAR Brands VEHICLECLASS  ENGINESIZE  CYLINDERS TRANSMISSION FUELTYPE  \\\n",
       "0       2014  ACURA      COMPACT         2.0          4          AS5        Z   \n",
       "1       2014  ACURA      COMPACT         2.4          4           M6        Z   \n",
       "2       2014  ACURA      COMPACT         1.5          4          AV7        Z   \n",
       "3       2014  ACURA    SUV_SMALL         3.5          6          AS6        Z   \n",
       "4       2014  ACURA    SUV_SMALL         3.5          6          AS6        Z   \n",
       "\n",
       "   FUELCONSUMPTION_CITY  FUELCONSUMPTION_HWY  FUELCONSUMPTION_COMB  \\\n",
       "0                   9.9                  6.7                   8.5   \n",
       "1                  11.2                  7.7                   9.6   \n",
       "2                   6.0                  5.8                   5.9   \n",
       "3                  12.7                  9.1                  11.1   \n",
       "4                  12.1                  8.7                  10.6   \n",
       "\n",
       "   FUELCONSUMPTION_COMB_MPG  CO2EMISSIONS  \n",
       "0                        33           196  \n",
       "1                        29           221  \n",
       "2                        48           136  \n",
       "3                        25           255  \n",
       "4                        27           244  "
      ]
     },
     "execution_count": 81,
     "metadata": {},
     "output_type": "execute_result"
    }
   ],
   "source": [
    "FuelCons.head()"
   ]
  },
  {
   "cell_type": "code",
   "execution_count": 82,
   "id": "0cc4b99e",
   "metadata": {},
   "outputs": [
    {
     "name": "stdout",
     "output_type": "stream",
     "text": [
      "<class 'pandas.core.frame.DataFrame'>\n",
      "RangeIndex: 1067 entries, 0 to 1066\n",
      "Data columns (total 12 columns):\n",
      " #   Column                    Non-Null Count  Dtype  \n",
      "---  ------                    --------------  -----  \n",
      " 0   MODELYEAR                 1067 non-null   int64  \n",
      " 1   Brands                    1067 non-null   object \n",
      " 2   VEHICLECLASS              1067 non-null   object \n",
      " 3   ENGINESIZE                1067 non-null   float64\n",
      " 4   CYLINDERS                 1067 non-null   int64  \n",
      " 5   TRANSMISSION              1067 non-null   object \n",
      " 6   FUELTYPE                  1067 non-null   object \n",
      " 7   FUELCONSUMPTION_CITY      1067 non-null   float64\n",
      " 8   FUELCONSUMPTION_HWY       1067 non-null   float64\n",
      " 9   FUELCONSUMPTION_COMB      1067 non-null   float64\n",
      " 10  FUELCONSUMPTION_COMB_MPG  1067 non-null   int64  \n",
      " 11  CO2EMISSIONS              1067 non-null   int64  \n",
      "dtypes: float64(4), int64(4), object(4)\n",
      "memory usage: 100.2+ KB\n"
     ]
    }
   ],
   "source": [
    "FuelCons.info()"
   ]
  },
  {
   "cell_type": "markdown",
   "id": "23b71c83",
   "metadata": {},
   "source": [
    "#### 1067 Entries"
   ]
  },
  {
   "cell_type": "code",
   "execution_count": 83,
   "id": "0eb51551",
   "metadata": {},
   "outputs": [
    {
     "data": {
      "text/html": [
       "<div>\n",
       "<style scoped>\n",
       "    .dataframe tbody tr th:only-of-type {\n",
       "        vertical-align: middle;\n",
       "    }\n",
       "\n",
       "    .dataframe tbody tr th {\n",
       "        vertical-align: top;\n",
       "    }\n",
       "\n",
       "    .dataframe thead th {\n",
       "        text-align: right;\n",
       "    }\n",
       "</style>\n",
       "<table border=\"1\" class=\"dataframe\">\n",
       "  <thead>\n",
       "    <tr style=\"text-align: right;\">\n",
       "      <th></th>\n",
       "      <th>MODELYEAR</th>\n",
       "      <th>ENGINESIZE</th>\n",
       "      <th>CYLINDERS</th>\n",
       "      <th>FUELCONSUMPTION_CITY</th>\n",
       "      <th>FUELCONSUMPTION_HWY</th>\n",
       "      <th>FUELCONSUMPTION_COMB</th>\n",
       "      <th>FUELCONSUMPTION_COMB_MPG</th>\n",
       "      <th>CO2EMISSIONS</th>\n",
       "    </tr>\n",
       "  </thead>\n",
       "  <tbody>\n",
       "    <tr>\n",
       "      <th>count</th>\n",
       "      <td>1067.0</td>\n",
       "      <td>1067.000000</td>\n",
       "      <td>1067.000000</td>\n",
       "      <td>1067.000000</td>\n",
       "      <td>1067.000000</td>\n",
       "      <td>1067.000000</td>\n",
       "      <td>1067.000000</td>\n",
       "      <td>1067.000000</td>\n",
       "    </tr>\n",
       "    <tr>\n",
       "      <th>mean</th>\n",
       "      <td>2014.0</td>\n",
       "      <td>3.346298</td>\n",
       "      <td>5.794752</td>\n",
       "      <td>13.296532</td>\n",
       "      <td>9.474602</td>\n",
       "      <td>11.580881</td>\n",
       "      <td>26.441425</td>\n",
       "      <td>256.228679</td>\n",
       "    </tr>\n",
       "    <tr>\n",
       "      <th>std</th>\n",
       "      <td>0.0</td>\n",
       "      <td>1.415895</td>\n",
       "      <td>1.797447</td>\n",
       "      <td>4.101253</td>\n",
       "      <td>2.794510</td>\n",
       "      <td>3.485595</td>\n",
       "      <td>7.468702</td>\n",
       "      <td>63.372304</td>\n",
       "    </tr>\n",
       "    <tr>\n",
       "      <th>min</th>\n",
       "      <td>2014.0</td>\n",
       "      <td>1.000000</td>\n",
       "      <td>3.000000</td>\n",
       "      <td>4.600000</td>\n",
       "      <td>4.900000</td>\n",
       "      <td>4.700000</td>\n",
       "      <td>11.000000</td>\n",
       "      <td>108.000000</td>\n",
       "    </tr>\n",
       "    <tr>\n",
       "      <th>25%</th>\n",
       "      <td>2014.0</td>\n",
       "      <td>2.000000</td>\n",
       "      <td>4.000000</td>\n",
       "      <td>10.250000</td>\n",
       "      <td>7.500000</td>\n",
       "      <td>9.000000</td>\n",
       "      <td>21.000000</td>\n",
       "      <td>207.000000</td>\n",
       "    </tr>\n",
       "    <tr>\n",
       "      <th>50%</th>\n",
       "      <td>2014.0</td>\n",
       "      <td>3.400000</td>\n",
       "      <td>6.000000</td>\n",
       "      <td>12.600000</td>\n",
       "      <td>8.800000</td>\n",
       "      <td>10.900000</td>\n",
       "      <td>26.000000</td>\n",
       "      <td>251.000000</td>\n",
       "    </tr>\n",
       "    <tr>\n",
       "      <th>75%</th>\n",
       "      <td>2014.0</td>\n",
       "      <td>4.300000</td>\n",
       "      <td>8.000000</td>\n",
       "      <td>15.550000</td>\n",
       "      <td>10.850000</td>\n",
       "      <td>13.350000</td>\n",
       "      <td>31.000000</td>\n",
       "      <td>294.000000</td>\n",
       "    </tr>\n",
       "    <tr>\n",
       "      <th>max</th>\n",
       "      <td>2014.0</td>\n",
       "      <td>8.400000</td>\n",
       "      <td>12.000000</td>\n",
       "      <td>30.200000</td>\n",
       "      <td>20.500000</td>\n",
       "      <td>25.800000</td>\n",
       "      <td>60.000000</td>\n",
       "      <td>488.000000</td>\n",
       "    </tr>\n",
       "  </tbody>\n",
       "</table>\n",
       "</div>"
      ],
      "text/plain": [
       "       MODELYEAR   ENGINESIZE    CYLINDERS  FUELCONSUMPTION_CITY  \\\n",
       "count     1067.0  1067.000000  1067.000000           1067.000000   \n",
       "mean      2014.0     3.346298     5.794752             13.296532   \n",
       "std          0.0     1.415895     1.797447              4.101253   \n",
       "min       2014.0     1.000000     3.000000              4.600000   \n",
       "25%       2014.0     2.000000     4.000000             10.250000   \n",
       "50%       2014.0     3.400000     6.000000             12.600000   \n",
       "75%       2014.0     4.300000     8.000000             15.550000   \n",
       "max       2014.0     8.400000    12.000000             30.200000   \n",
       "\n",
       "       FUELCONSUMPTION_HWY  FUELCONSUMPTION_COMB  FUELCONSUMPTION_COMB_MPG  \\\n",
       "count          1067.000000           1067.000000               1067.000000   \n",
       "mean              9.474602             11.580881                 26.441425   \n",
       "std               2.794510              3.485595                  7.468702   \n",
       "min               4.900000              4.700000                 11.000000   \n",
       "25%               7.500000              9.000000                 21.000000   \n",
       "50%               8.800000             10.900000                 26.000000   \n",
       "75%              10.850000             13.350000                 31.000000   \n",
       "max              20.500000             25.800000                 60.000000   \n",
       "\n",
       "       CO2EMISSIONS  \n",
       "count   1067.000000  \n",
       "mean     256.228679  \n",
       "std       63.372304  \n",
       "min      108.000000  \n",
       "25%      207.000000  \n",
       "50%      251.000000  \n",
       "75%      294.000000  \n",
       "max      488.000000  "
      ]
     },
     "execution_count": 83,
     "metadata": {},
     "output_type": "execute_result"
    }
   ],
   "source": [
    "FuelCons.describe()"
   ]
  },
  {
   "cell_type": "markdown",
   "id": "04697d8c",
   "metadata": {},
   "source": [
    "### From The Above Figures,We Got The Below:\n",
    "\n",
    "- The study done on 2014 models\n",
    "- the minimum engine size is 1 L\n",
    "- the maximum engine size is 8.4 L\n",
    "- the minimum number of cylinders is 3\n",
    "- the maximum number of cylinders is 12\n",
    "- the minimum fuel consmotion inside city is 4.6\n",
    "- the maximum fuel consmption inside city is 30.2\n",
    "- the minimum fuel consumption on highway is 4.9\n",
    "- the maximum fuel consumption on high way is 20.5\n",
    "- the minimum co2 emissions is 108\n",
    "- the maximun co2 emissions is 488\n",
    "- the standard deviation is little higher for co2 emission than others"
   ]
  },
  {
   "cell_type": "markdown",
   "id": "b42768c5",
   "metadata": {},
   "source": [
    "## Let's Find Relations Between The Data"
   ]
  },
  {
   "cell_type": "code",
   "execution_count": 84,
   "id": "05e05141",
   "metadata": {},
   "outputs": [
    {
     "data": {
      "text/plain": [
       "<seaborn.axisgrid.JointGrid at 0x2090f31ad00>"
      ]
     },
     "execution_count": 84,
     "metadata": {},
     "output_type": "execute_result"
    },
    {
     "data": {
      "image/png": "[encoded data removed]",
      "text/plain": [
       "<Figure size 600x600 with 3 Axes>"
      ]
     },
     "metadata": {},
     "output_type": "display_data"
    }
   ],
   "source": [
    "sns.jointplot(x=\"ENGINESIZE\",y=\"FUELCONSUMPTION_CITY\",data=FuelCons)"
   ]
  },
  {
   "cell_type": "markdown",
   "id": "9fa88548",
   "metadata": {},
   "source": [
    "#### The fuel consumption is incresing by increasing the engine size"
   ]
  },
  {
   "cell_type": "code",
   "execution_count": 85,
   "id": "e9611e37",
   "metadata": {},
   "outputs": [
    {
     "data": {
      "text/plain": [
       "<seaborn.axisgrid.JointGrid at 0x2090f3db880>"
      ]
     },
     "execution_count": 85,
     "metadata": {},
     "output_type": "execute_result"
    },
    {
     "data": {
      "image/png": "[encoded data removed]",
      "text/plain": [
       "<Figure size 600x600 with 3 Axes>"
      ]
     },
     "metadata": {},
     "output_type": "display_data"
    }
   ],
   "source": [
    "sns.jointplot(x=\"ENGINESIZE\",y=\"FUELCONSUMPTION_HWY\",data=FuelCons)"
   ]
  },
  {
   "cell_type": "markdown",
   "id": "756ce56a",
   "metadata": {},
   "source": [
    "#### The same relation as before"
   ]
  },
  {
   "cell_type": "code",
   "execution_count": 86,
   "id": "1093df56",
   "metadata": {},
   "outputs": [
    {
     "data": {
      "text/plain": [
       "<seaborn.axisgrid.JointGrid at 0x2090f0f6190>"
      ]
     },
     "execution_count": 86,
     "metadata": {},
     "output_type": "execute_result"
    },
    {
     "data": {
      "image/png": "[encoded data removed]",
      "text/plain": [
       "<Figure size 600x600 with 3 Axes>"
      ]
     },
     "metadata": {},
     "output_type": "display_data"
    }
   ],
   "source": [
    "sns.jointplot(x=\"FUELCONSUMPTION_COMB\",y=\"CO2EMISSIONS\",data=FuelCons)"
   ]
  },
  {
   "cell_type": "markdown",
   "id": "94b68747",
   "metadata": {},
   "source": [
    "#### The co2 emmision is increasing during the high fuel consumption"
   ]
  },
  {
   "cell_type": "markdown",
   "id": "0159b27e",
   "metadata": {},
   "source": [
    "### What is the car models used for the study?"
   ]
  },
  {
   "cell_type": "code",
   "execution_count": 87,
   "id": "e94279d6",
   "metadata": {
    "scrolled": true
   },
   "outputs": [
    {
     "data": {
      "text/plain": [
       "2014    1067\n",
       "Name: MODELYEAR, dtype: int64"
      ]
     },
     "execution_count": 87,
     "metadata": {},
     "output_type": "execute_result"
    }
   ],
   "source": [
    "FuelCons[\"MODELYEAR\"].value_counts()"
   ]
  },
  {
   "cell_type": "markdown",
   "id": "6d204b98",
   "metadata": {},
   "source": [
    "#### Only 2014 model"
   ]
  },
  {
   "cell_type": "markdown",
   "id": "ede17b4d",
   "metadata": {},
   "source": [
    "### How many cars of 4 cylinders engine in that study?"
   ]
  },
  {
   "cell_type": "code",
   "execution_count": 88,
   "id": "f3ed8d94",
   "metadata": {},
   "outputs": [
    {
     "data": {
      "text/plain": [
       "22"
      ]
     },
     "execution_count": 88,
     "metadata": {},
     "output_type": "execute_result"
    }
   ],
   "source": [
    "FuelCons[FuelCons[\"ENGINESIZE\"]== 4.0][\"ENGINESIZE\"].count()"
   ]
  },
  {
   "cell_type": "markdown",
   "id": "c2f39a17",
   "metadata": {},
   "source": [
    "### How many car brands are there ?"
   ]
  },
  {
   "cell_type": "code",
   "execution_count": 89,
   "id": "78007f48",
   "metadata": {},
   "outputs": [
    {
     "data": {
      "text/plain": [
       "39"
      ]
     },
     "execution_count": 89,
     "metadata": {},
     "output_type": "execute_result"
    }
   ],
   "source": [
    "FuelCons[\"Brands\"].nunique()"
   ]
  },
  {
   "cell_type": "markdown",
   "id": "543d05ec",
   "metadata": {},
   "source": [
    "#### 39 brand"
   ]
  },
  {
   "cell_type": "code",
   "execution_count": 90,
   "id": "6fafc4f0",
   "metadata": {
    "scrolled": true
   },
   "outputs": [],
   "source": [
    "f=FuelCons[\"Brands\"].value_counts()\n"
   ]
  },
  {
   "cell_type": "code",
   "execution_count": 91,
   "id": "8de136e5",
   "metadata": {},
   "outputs": [
    {
     "name": "stderr",
     "output_type": "stream",
     "text": [
      "c:\\Users\\Alaswad\\anaconda3\\lib\\site-packages\\seaborn\\_decorators.py:36: FutureWarning: Pass the following variable as a keyword arg: x. From version 0.12, the only valid positional argument will be `data`, and passing other arguments without an explicit keyword will result in an error or misinterpretation.\n",
      "  warnings.warn(\n"
     ]
    },
    {
     "data": {
      "text/plain": [
       "<seaborn.axisgrid.JointGrid at 0x2090daa88b0>"
      ]
     },
     "execution_count": 91,
     "metadata": {},
     "output_type": "execute_result"
    },
    {
     "data": {
      "image/png": "[encoded data removed]",
      "text/plain": [
       "<Figure size 600x600 with 3 Axes>"
      ]
     },
     "metadata": {},
     "output_type": "display_data"
    }
   ],
   "source": [
    "sns.jointplot(f)"
   ]
  },
  {
   "cell_type": "markdown",
   "id": "23855e7a",
   "metadata": {},
   "source": [
    "#### Quantity of each brand showing in the above table"
   ]
  },
  {
   "cell_type": "markdown",
   "id": "c06240ec",
   "metadata": {},
   "source": [
    "### What is the engine size having 207 co2 emission?"
   ]
  },
  {
   "cell_type": "code",
   "execution_count": 92,
   "id": "205dd043",
   "metadata": {},
   "outputs": [
    {
     "data": {
      "text/plain": [
       "158     2.5\n",
       "273     1.4\n",
       "411     2.0\n",
       "626     1.6\n",
       "683     2.0\n",
       "774     1.8\n",
       "796     1.6\n",
       "800     1.6\n",
       "808     1.6\n",
       "812     1.6\n",
       "831     2.0\n",
       "932     2.5\n",
       "933     2.5\n",
       "958     2.5\n",
       "1037    2.0\n",
       "1038    2.0\n",
       "Name: ENGINESIZE, dtype: float64"
      ]
     },
     "execution_count": 92,
     "metadata": {},
     "output_type": "execute_result"
    }
   ],
   "source": [
    "FuelCons[FuelCons[\"CO2EMISSIONS\"]== 207.0][\"ENGINESIZE\"]\n"
   ]
  },
  {
   "cell_type": "markdown",
   "id": "8397b5fd",
   "metadata": {},
   "source": [
    "### How many car in the study that having a Co2 emision value between 108 and 251 ?"
   ]
  },
  {
   "cell_type": "code",
   "execution_count": 93,
   "id": "29f4c6f1",
   "metadata": {},
   "outputs": [
    {
     "data": {
      "text/plain": [
       "269"
      ]
     },
     "execution_count": 93,
     "metadata": {},
     "output_type": "execute_result"
    }
   ],
   "source": [
    "sum((FuelCons[\"CO2EMISSIONS\"]>= 108.0 ) & (FuelCons[\"CO2EMISSIONS\"]<=207.0))"
   ]
  },
  {
   "cell_type": "markdown",
   "id": "fada44db",
   "metadata": {},
   "source": [
    "### What is the average fuel consumption of 6 cylinders cars on city and highway ?"
   ]
  },
  {
   "cell_type": "code",
   "execution_count": 94,
   "id": "8777fa8d",
   "metadata": {},
   "outputs": [
    {
     "name": "stdout",
     "output_type": "stream",
     "text": [
      "13.60 Liter/100km\n"
     ]
    }
   ],
   "source": [
    "x=FuelCons[FuelCons[\"CYLINDERS\"]== 6.0 ][\"FUELCONSUMPTION_CITY\"].mean()\n",
    "print(f\"{x:.2f} Liter/100km\")"
   ]
  },
  {
   "cell_type": "code",
   "execution_count": 95,
   "id": "c575a2fe",
   "metadata": {},
   "outputs": [
    {
     "name": "stdout",
     "output_type": "stream",
     "text": [
      "9.60 Liter/100km\n"
     ]
    }
   ],
   "source": [
    "y=FuelCons[FuelCons[\"CYLINDERS\"]== 6.0 ][\"FUELCONSUMPTION_HWY\"].mean()\n",
    "print(f\"{y:.2f} Liter/100km\" )"
   ]
  },
  {
   "cell_type": "markdown",
   "id": "612dd013",
   "metadata": {},
   "source": [
    "#### Fuel consumption is less on the highway for the same engine/cylinder size."
   ]
  },
  {
   "cell_type": "markdown",
   "id": "c6297a6a",
   "metadata": {},
   "source": [
    "### How many transmission types and fuel types ?"
   ]
  },
  {
   "cell_type": "code",
   "execution_count": 96,
   "id": "d865bc7d",
   "metadata": {
    "scrolled": false
   },
   "outputs": [
    {
     "data": {
      "text/plain": [
       "21"
      ]
     },
     "execution_count": 96,
     "metadata": {},
     "output_type": "execute_result"
    }
   ],
   "source": [
    "FuelCons[\"TRANSMISSION\"].value_counts().nunique()"
   ]
  },
  {
   "cell_type": "code",
   "execution_count": 97,
   "id": "b6488961",
   "metadata": {},
   "outputs": [
    {
     "data": {
      "text/plain": [
       "4"
      ]
     },
     "execution_count": 97,
     "metadata": {},
     "output_type": "execute_result"
    }
   ],
   "source": [
    "FuelCons[\"FUELTYPE\"].value_counts().nunique()"
   ]
  },
  {
   "attachments": {},
   "cell_type": "markdown",
   "id": "3a836229",
   "metadata": {},
   "source": [
    "### For each engine size, what is the fuel type which consumed more that the others?"
   ]
  },
  {
   "cell_type": "code",
   "execution_count": null,
   "id": "9f9a6872",
   "metadata": {},
   "outputs": [],
   "source": []
  },
  {
   "cell_type": "markdown",
   "id": "5bc178f2",
   "metadata": {},
   "source": [
    "### What is the car class which consuming the highest amount of fuel ?"
   ]
  },
  {
   "cell_type": "code",
   "execution_count": 98,
   "id": "f2cc8877",
   "metadata": {},
   "outputs": [
    {
     "data": {
      "text/html": [
       "<div>\n",
       "<style scoped>\n",
       "    .dataframe tbody tr th:only-of-type {\n",
       "        vertical-align: middle;\n",
       "    }\n",
       "\n",
       "    .dataframe tbody tr th {\n",
       "        vertical-align: top;\n",
       "    }\n",
       "\n",
       "    .dataframe thead th {\n",
       "        text-align: right;\n",
       "    }\n",
       "</style>\n",
       "<table border=\"1\" class=\"dataframe\">\n",
       "  <thead>\n",
       "    <tr style=\"text-align: right;\">\n",
       "      <th></th>\n",
       "      <th>Fuel max. Consumption</th>\n",
       "      <th>Car Brand</th>\n",
       "      <th>Vehicle Class</th>\n",
       "    </tr>\n",
       "  </thead>\n",
       "  <tbody>\n",
       "    <tr>\n",
       "      <th>0</th>\n",
       "      <td>25.8</td>\n",
       "      <td>[[CHEVROLET, GMC]]</td>\n",
       "      <td>[[VAN_PASSENGER, VAN_PASSENGER]]</td>\n",
       "    </tr>\n",
       "  </tbody>\n",
       "</table>\n",
       "</div>"
      ],
      "text/plain": [
       "   Fuel max. Consumption           Car Brand                     Vehicle Class\n",
       "0                   25.8  [[CHEVROLET, GMC]]  [[VAN_PASSENGER, VAN_PASSENGER]]"
      ]
     },
     "execution_count": 98,
     "metadata": {},
     "output_type": "execute_result"
    }
   ],
   "source": [
    "fuelMaxCons=[FuelCons[\"FUELCONSUMPTION_COMB\"].max()]\n",
    "carBrand=[FuelCons[FuelCons[\"FUELCONSUMPTION_COMB\"]==FuelCons[\"FUELCONSUMPTION_COMB\"].max()][\"Brands\"]]\n",
    "vehicleClass=[FuelCons[FuelCons[\"FUELCONSUMPTION_COMB\"]==FuelCons[\"FUELCONSUMPTION_COMB\"].max()][\"VEHICLECLASS\"]]\n",
    "pd.DataFrame({\"Fuel max. Consumption\":fuelMaxCons ,\"Car Brand\":[carBrand] ,\"Vehicle Class\":[vehicleClass]})"
   ]
  },
  {
   "cell_type": "markdown",
   "id": "c77aeab9",
   "metadata": {},
   "source": [
    "### Which is more ? the Co2 emission inside the city or on the high way."
   ]
  },
  {
   "cell_type": "code",
   "execution_count": 99,
   "id": "d08771cd",
   "metadata": {
    "scrolled": false
   },
   "outputs": [
    {
     "name": "stdout",
     "output_type": "stream",
     "text": [
      "The emission in city is higher than on the highway\n"
     ]
    }
   ],
   "source": [
    "emissionInCity=FuelCons[FuelCons[\"CYLINDERS\"]==6.0].max()[\"FUELCONSUMPTION_CITY\"]\n",
    "emissionOnHighway=FuelCons[FuelCons[\"CYLINDERS\"]==6.0].max()[\"FUELCONSUMPTION_HWY\"]\n",
    "\n",
    "if emissionInCity > emissionOnHighway :\n",
    "    print(\"The emission in city is higher than on the highway\")\n",
    "    \n",
    "else:\n",
    "    print(\"The emission on highway is more than in city\")\n",
    "\n"
   ]
  },
  {
   "cell_type": "code",
   "execution_count": null,
   "id": "4b05debc",
   "metadata": {},
   "outputs": [],
   "source": []
  }
 ],
 "metadata": {
  "kernelspec": {
   "display_name": "base",
   "language": "python",
   "name": "python3"
  },
  "language_info": {
   "codemirror_mode": {
    "name": "ipython",
    "version": 3
   },
   "file_extension": ".py",
   "mimetype": "text/x-python",
   "name": "python",
   "nbconvert_exporter": "python",
   "pygments_lexer": "ipython3",
   "version": "3.9.13"
  },
  "vscode": {
   "interpreter": {
    "hash": "cb204388cfcb7c2f2a254b29d0e79ec32c8f69a010302e5608eb1b266587c57b"
   }
  }
 },
 "nbformat": 4,
 "nbformat_minor": 5
}
